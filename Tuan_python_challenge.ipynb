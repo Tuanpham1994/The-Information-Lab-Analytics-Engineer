{
 "cells": [
  {
   "cell_type": "code",
   "execution_count": 7,
   "metadata": {},
   "outputs": [
    {
     "name": "stdout",
     "output_type": "stream",
     "text": [
      "A = 9, C = 63\n",
      "A = 2, C = 14\n",
      "A = 3, C = 18\n",
      "A = 9, C = 36\n",
      "A = 3, C = 27\n",
      "A = 9, C = 63\n",
      "A = 8, C = 8\n",
      "A = 5, C = 25\n",
      "A = 3, C = 21\n",
      "A = 2, C = 16\n",
      "A = 7, C = 7\n",
      "A = 2, C = 14\n",
      "A = 6, C = 42\n",
      "A = 4, C = 20\n",
      "A = 2, C = 6\n",
      "A = 7, C = 63\n",
      "A = 8, C = 32\n",
      "A = 6, C = 6\n",
      "A = 9, C = 9\n",
      "A = 8, C = 16\n",
      "A = 4, C = 16\n",
      "A = 6, C = 24\n",
      "A = 3, C = 18\n",
      "A = 6, C = 36\n",
      "A = 6, C = 6\n",
      "A = 3, C = 24\n",
      "A = 9, C = 36\n",
      "A = 6, C = 24\n",
      "A = 7, C = 42\n",
      "A = 4, C = 20\n",
      "A = 7, C = 7\n",
      "A = 7, C = 35\n",
      "Success! A = 4 B = 1\n"
     ]
    }
   ],
   "source": [
    "import random\n",
    "\n",
    "def function_1():\n",
    "    A = random.randint(1, 9) #stores a random integer A between 1 and 9\n",
    "    B = random.randint(1, 9) #stores a random integer B between 1 and 9\n",
    "    C = A * B #multiplies A and B together as C\n",
    "    while C != 4: \n",
    "        print(f\"A = {A}, C = {C}\") #Prints A and C for every result until C = 4\n",
    "        A = random.randint(1, 9)\n",
    "        B = random.randint(1, 9)\n",
    "        C = A * B\n",
    "    print(\"Success! A =\", A, \"B =\", B) #If C = 4 , print ‘Success!’ and the results for A and B\n",
    "# Call the function\n",
    "function_1()\n",
    "\n",
    "\n",
    "\n",
    "\n"
   ]
  }
 ],
 "metadata": {
  "kernelspec": {
   "display_name": "Python 3",
   "language": "python",
   "name": "python3"
  },
  "language_info": {
   "codemirror_mode": {
    "name": "ipython",
    "version": 3
   },
   "file_extension": ".py",
   "mimetype": "text/x-python",
   "name": "python",
   "nbconvert_exporter": "python",
   "pygments_lexer": "ipython3",
   "version": "3.8.5"
  }
 },
 "nbformat": 4,
 "nbformat_minor": 4
}
